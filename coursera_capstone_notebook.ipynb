{
  "nbformat": 4,
  "nbformat_minor": 0,
  "metadata": {
    "colab": {
      "name": "coursera_capstone_notebook.ipynb",
      "provenance": [],
      "authorship_tag": "ABX9TyMWt1I0ejmOKRPb+73qecSX",
      "include_colab_link": true
    },
    "kernelspec": {
      "name": "python3",
      "display_name": "Python 3"
    }
  },
  "cells": [
    {
      "cell_type": "markdown",
      "metadata": {
        "id": "view-in-github",
        "colab_type": "text"
      },
      "source": [
        "<a href=\"https://colab.research.google.com/github/hurratanvir/Coursera_Capstone/blob/master/coursera_capstone_notebook.ipynb\" target=\"_parent\"><img src=\"https://colab.research.google.com/assets/colab-badge.svg\" alt=\"Open In Colab\"/></a>"
      ]
    },
    {
      "cell_type": "markdown",
      "metadata": {
        "id": "tC37aQQ73zpO",
        "colab_type": "text"
      },
      "source": [
        "<h1>Notebook for Coursera Capstone Project</h><br>\n",
        "<h3>This Notebook is for capstone project of IBM Proffessional Data Science Certification Course</h3>"
      ]
    },
    {
      "cell_type": "code",
      "metadata": {
        "id": "Vp3q_i3A4R2o",
        "colab_type": "code",
        "colab": {
          "base_uri": "https://localhost:8080/",
          "height": 33
        },
        "outputId": "d68a1f8b-058f-44f6-8335-7bdb29e20de8"
      },
      "source": [
        "import pandas as pd\n",
        "import numpy as np\n",
        "print('Hello Capstone Project Course!')"
      ],
      "execution_count": 1,
      "outputs": [
        {
          "output_type": "stream",
          "text": [
            "Hello Capstone Project Course!\n"
          ],
          "name": "stdout"
        }
      ]
    }
  ]
}